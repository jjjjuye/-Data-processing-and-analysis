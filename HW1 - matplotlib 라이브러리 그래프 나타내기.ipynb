{
 "cells": [
  {
   "cell_type": "code",
   "execution_count": 38,
   "id": "710871a2",
   "metadata": {
    "scrolled": true
   },
   "outputs": [
    {
     "data": {
      "text/html": [
       "<div>\n",
       "<style scoped>\n",
       "    .dataframe tbody tr th:only-of-type {\n",
       "        vertical-align: middle;\n",
       "    }\n",
       "\n",
       "    .dataframe tbody tr th {\n",
       "        vertical-align: top;\n",
       "    }\n",
       "\n",
       "    .dataframe thead th {\n",
       "        text-align: right;\n",
       "    }\n",
       "</style>\n",
       "<table border=\"1\" class=\"dataframe\">\n",
       "  <thead>\n",
       "    <tr style=\"text-align: right;\">\n",
       "      <th></th>\n",
       "      <th>1분기</th>\n",
       "      <th>2분기</th>\n",
       "      <th>3분기</th>\n",
       "      <th>4분기</th>\n",
       "    </tr>\n",
       "  </thead>\n",
       "  <tbody>\n",
       "    <tr>\n",
       "      <th>2015</th>\n",
       "      <td>500</td>\n",
       "      <td>450</td>\n",
       "      <td>520</td>\n",
       "      <td>610</td>\n",
       "    </tr>\n",
       "    <tr>\n",
       "      <th>2016</th>\n",
       "      <td>690</td>\n",
       "      <td>700</td>\n",
       "      <td>820</td>\n",
       "      <td>900</td>\n",
       "    </tr>\n",
       "    <tr>\n",
       "      <th>2017</th>\n",
       "      <td>1100</td>\n",
       "      <td>1030</td>\n",
       "      <td>1200</td>\n",
       "      <td>1380</td>\n",
       "    </tr>\n",
       "    <tr>\n",
       "      <th>2018</th>\n",
       "      <td>1500</td>\n",
       "      <td>1650</td>\n",
       "      <td>1700</td>\n",
       "      <td>1850</td>\n",
       "    </tr>\n",
       "    <tr>\n",
       "      <th>2019</th>\n",
       "      <td>1990</td>\n",
       "      <td>2020</td>\n",
       "      <td>2300</td>\n",
       "      <td>2420</td>\n",
       "    </tr>\n",
       "    <tr>\n",
       "      <th>2020</th>\n",
       "      <td>1020</td>\n",
       "      <td>1600</td>\n",
       "      <td>2200</td>\n",
       "      <td>2550</td>\n",
       "    </tr>\n",
       "  </tbody>\n",
       "</table>\n",
       "</div>"
      ],
      "text/plain": [
       "       1분기   2분기   3분기   4분기\n",
       "2015   500   450   520   610\n",
       "2016   690   700   820   900\n",
       "2017  1100  1030  1200  1380\n",
       "2018  1500  1650  1700  1850\n",
       "2019  1990  2020  2300  2420\n",
       "2020  1020  1600  2200  2550"
      ]
     },
     "execution_count": 38,
     "metadata": {},
     "output_type": "execute_result"
    }
   ],
   "source": [
    "import pandas as pd\n",
    "data = [[500,450,520,610], [690, 700, 820, 900], [1100, 1030, 1200, 1380], [1500, 1650, 1700, 1850], [1990, 2020, 2300, 2420], [1020,1600,2200,2550]]\n",
    "index = [2015, 2016, 2017, 2018, 2019, 2020]\n",
    "columns = ['1분기','2분기','3분기','4분기']\n",
    "\n",
    "h=pd.DataFrame(data, index = index, columns = columns)\n",
    "h"
   ]
  },
  {
   "cell_type": "code",
   "execution_count": 16,
   "id": "5e55be7e",
   "metadata": {},
   "outputs": [],
   "source": [
    "h.to_csv(path_or_buf='C:/Users/jyk42/Desktop/빅데이터 융합개론/test1.csv', header = True, encoding = 'euc-kr')\n"
   ]
  },
  {
   "cell_type": "code",
   "execution_count": 48,
   "id": "39fb14be",
   "metadata": {},
   "outputs": [
    {
     "data": {
      "image/png": "[encoded data removed]",
      "text/plain": [
       "<Figure size 432x288 with 1 Axes>"
      ]
     },
     "metadata": {
      "needs_background": "light"
     },
     "output_type": "display_data"
    }
   ],
   "source": [
    "import matplotlib.pyplot as plt\n",
    "import numpy as np\n",
    "\n",
    "columns = ['first', 'second', 'third', 'fourth']\n",
    "b = np.array(data)\n",
    "b=np.transpose(b)\n",
    "D=[]\n",
    "for i in range(0,4):\n",
    "    D.append(b[i])\n",
    "\n",
    "\n",
    "plt.title('2015~2020 Quarterly sales')\n",
    "\n",
    "plt.plot(columns,D , label = index )\n",
    "plt.legend()\n",
    "plt.xlabel('Quarters')\n",
    "plt.ylabel('sales')\n",
    "plt.show()"
   ]
  },
  {
   "cell_type": "code",
   "execution_count": null,
   "id": "e0be239a",
   "metadata": {},
   "outputs": [],
   "source": [
    "import requests\n",
    "\n"
   ]
  },
  {
   "cell_type": "code",
   "execution_count": null,
   "id": "8b7ff304",
   "metadata": {},
   "outputs": [],
   "source": []
  }
 ],
 "metadata": {
  "kernelspec": {
   "display_name": "Python 3 (ipykernel)",
   "language": "python",
   "name": "python3"
  },
  "language_info": {
   "codemirror_mode": {
    "name": "ipython",
    "version": 3
   },
   "file_extension": ".py",
   "mimetype": "text/x-python",
   "name": "python",
   "nbconvert_exporter": "python",
   "pygments_lexer": "ipython3",
   "version": "3.9.7"
  }
 },
 "nbformat": 4,
 "nbformat_minor": 5
}
