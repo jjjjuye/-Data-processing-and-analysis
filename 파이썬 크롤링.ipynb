{
 "cells": [
  {
   "cell_type": "code",
   "execution_count": 2,
   "id": "8c3b7db6",
   "metadata": {},
   "outputs": [
    {
     "data": {
      "text/plain": [
       "dict"
      ]
     },
     "execution_count": 2,
     "metadata": {},
     "output_type": "execute_result"
    }
   ],
   "source": [
    "import json\n",
    "\n",
    "x = '{\"name\": \"ff\", \"age\" : 9, \"city\": \"Seoul\" }'\n",
    "y = json.loads(x)\n",
    "type(y)"
   ]
  },
  {
   "cell_type": "code",
   "execution_count": 3,
   "id": "4f122f98",
   "metadata": {},
   "outputs": [
    {
     "data": {
      "text/plain": [
       "str"
      ]
     },
     "execution_count": 3,
     "metadata": {},
     "output_type": "execute_result"
    }
   ],
   "source": [
    "a = json.dumps(y)\n",
    "a\n",
    "type(a)"
   ]
  },
  {
   "cell_type": "code",
   "execution_count": 2,
   "id": "291ecaeb",
   "metadata": {},
   "outputs": [
    {
     "data": {
      "text/plain": [
       "'20 01'"
      ]
     },
     "execution_count": 2,
     "metadata": {},
     "output_type": "execute_result"
    }
   ],
   "source": [
    "a=\"{} {:0>2}\".format(str(20), str(1))\n",
    "a"
   ]
  },
  {
   "cell_type": "code",
   "execution_count": 23,
   "id": "53c834f6",
   "metadata": {
    "scrolled": true
   },
   "outputs": [
    {
     "data": {
      "text/plain": [
       "{'lastBuildDate': 'Thu, 20 Oct 2022 12:49:03 +0900',\n",
       " 'total': 52432,\n",
       " 'start': 1,\n",
       " 'display': 10,\n",
       " 'items': [{'title': '허균-허난설헌 이야기로 만든 뮤지컬 &apos;달빛아래&apos; 초연 성료',\n",
       "   'originallink': 'http://www.wsobi.com/news/articleView.html?idxno=178686',\n",
       "   'link': 'http://www.wsobi.com/news/articleView.html?idxno=178686',\n",
       "   'description': '최초의 한글소설 <b>홍길동</b>전의 저자 허균과 그의 누나이자 조선시대 여류시인 허난설헌의 이야기를 담은 뮤지컬 &lt;달빛아래&gt;는 강릉관광개발공사가 관광사업과 지역특화 문화예술 콘텐츠를 연계한 작품이다. 공연의 각본... ',\n",
       "   'pubDate': 'Thu, 20 Oct 2022 10:12:00 +0900'},\n",
       "  {'title': '익산시, &apos;허균, 함라에 날아들다&apos; 성황리에 마무리',\n",
       "   'originallink': 'http://www.thekpm.com/news/articleView.html?idxno=136768',\n",
       "   'link': 'http://www.thekpm.com/news/articleView.html?idxno=136768',\n",
       "   'description': '특히 관람객들에게 <b>홍길동</b>전의 저자 허균이 함라에서 유배 생활을 하며 음식 관련 서적&apos;도문대작(屠門大嚼)... 공연은 <b>홍길동</b>을 지은 허균이 함라에서 유배 생활을 한 역사적인 사실을 기반으로 허균이 길동을 만나 함라의... ',\n",
       "   'pubDate': 'Thu, 20 Oct 2022 08:46:00 +0900'},\n",
       "  {'title': '“김유정처럼 펜을 들라, 문학청년들이여”',\n",
       "   'originallink': 'http://www.kwnews.co.kr/page/view/2022101910304908785',\n",
       "   'link': 'https://n.news.naver.com/mnews/article/087/0000929691?sid=102',\n",
       "   'description': '◇작품 제목 △소설=산골나그네, 총각과 맹꽁이, 소낙비, 노다지, 금 따는 콩밭, 금, 떡, 만무방, 산골, 솥, <b>홍길동</b>전, 봄·봄, 안해, 심청, 봄과 따라지, 가을, 두꺼비, 봄밤, 이런 음악회, 동백꽃, 옥토끼, 생의 반려... ',\n",
       "   'pubDate': 'Thu, 20 Oct 2022 00:02:00 +0900'},\n",
       "  {'title': '익산 야간상설공연 ‘허균, 함라에 날아들다’ 성료',\n",
       "   'originallink': 'https://www.jjan.kr/article/20221019580093',\n",
       "   'link': 'https://www.jjan.kr/article/20221019580093',\n",
       "   'description': '나아가, <b>홍길동</b>전의 저자 허균이 함라에서 유배 생활을 하며 음식 관련 서적 ‘도문대작(屠門大嚼)’을 집필하였다는 역사적 사실도 알릴수 있었다. ‘허균, 함라에 날아들다’는 <b>홍길동</b>을 지은 허균이 함라에서 유배... ',\n",
       "   'pubDate': 'Wed, 19 Oct 2022 13:42:00 +0900'},\n",
       "  {'title': '[팩트체크] 유튜브·넷플릭스는 국내 인터넷망에 무임승차한다?',\n",
       "   'originallink': 'https://www.yna.co.kr/view/AKR20221017103600502?input=1195m',\n",
       "   'link': 'https://n.news.naver.com/mnews/article/001/0013514152?sid=100',\n",
       "   'description': '이용자인 &apos;<b>홍길동</b>&apos;은 국내 통신사업자(ISP)에 일정한 금액을 내고 인터넷에 접속해 이 망에 연결된 누구와도 소통한다. 하지만 국내 ISP는 전 세계 인터넷 사용자들과 직접 통신선으로 연결돼 있지 않다. 예컨대, <b>홍길동</b>... ',\n",
       "   'pubDate': 'Wed, 19 Oct 2022 10:34:00 +0900'},\n",
       "  {'title': '뮤지컬 ‘달빛아래’ 초연 성황리에 마무리',\n",
       "   'originallink': 'http://www.globalepic.co.kr/view.php?ud=202210181522529767114f971d_29',\n",
       "   'link': 'http://www.globalepic.co.kr/view.php?ud=202210181522529767114f971d_29',\n",
       "   'description': '조선 최고의 개혁가이면서 최초의 한글소설 <b>홍길동</b>전의 저자 허균과 그의 누나이자 조선시대 여류시인... 허난설헌과 허균의 이야기는 비극이라 다소 무거운 극으로 흐를 수 있었던 점을 <b>홍길동</b>과 민중의 요소를 넣어... ',\n",
       "   'pubDate': 'Wed, 19 Oct 2022 09:26:00 +0900'},\n",
       "  {'title': '제1회 위도호박축제…음악축제 &apos;위도보체&apos;도 함께 진행',\n",
       "   'originallink': 'http://mbn.mk.co.kr/pages/news/newsView.php?category=mbn00013&news_seq_no=4865271',\n",
       "   'link': 'https://n.news.naver.com/mnews/article/057/0001697068?sid=103',\n",
       "   'description': '<b>홍길동</b>의 율도국, 심청의 인당수 전설로 구전되는 부안군에 위치한 섬, 위도는 오랜 시간동안 많은 풍파를 겪으면서도 세상 어느 곳과 비교해도 더할 나위 없이 아름다운 섬의 자태로 아티스트들에게 영감을 자극하는... ',\n",
       "   'pubDate': 'Wed, 19 Oct 2022 09:09:00 +0900'},\n",
       "  {'title': '허균-허난설헌 이야기 담은 뮤지컬 &apos;달빛아래&apos; 성황리에 종료',\n",
       "   'originallink': 'http://www.beyondpost.co.kr/view.php?ud=20221018152157233667114f971d_30',\n",
       "   'link': 'http://www.beyondpost.co.kr/view.php?ud=20221018152157233667114f971d_30',\n",
       "   'description': '조선 최고의 개혁가이면서 최초의 한글소설 <b>홍길동</b>전의 저자 허균과 그의 누나이자 조선시대 여류시인... 허난설헌과 허균의 이야기는 비극이라 다소 무거운 극으로 흐를 수 있었던 점을 <b>홍길동</b>과 민중의 요소를 넣어... ',\n",
       "   'pubDate': 'Wed, 19 Oct 2022 08:56:00 +0900'},\n",
       "  {'title': '이은주 삼성SDS 상무 &quot;시간이 갈수록 쌓이는 데이터···외부 데이터와 결합...',\n",
       "   'originallink': 'https://zdnet.co.kr/view/?no=20221018180211',\n",
       "   'link': 'https://n.news.naver.com/mnews/article/092/0002271069?sid=105',\n",
       "   'description': '예컨대 <b>홍길동</b>이라는 이름과 주민등록 번호, 주소, 전화번호, 이메일, 통신요금 등이 공개돼 있다. 활용하려면 사전 동의가 필요하다. 반면 익명정보는 특정 개인을 알아볼 수 없게 조치했다. 예컨대 20대, 남자... ',\n",
       "   'pubDate': 'Tue, 18 Oct 2022 18:03:00 +0900'},\n",
       "  {'title': '허균·허난설헌 이야기로 만든 뮤지컬 ‘달빛아래’ 초연 성황리 마무리',\n",
       "   'originallink': 'https://www.sisa-news.com/news/article.html?no=216399',\n",
       "   'link': 'https://www.sisa-news.com/news/article.html?no=216399',\n",
       "   'description': '조선 최고의 개혁가이면서 최초의 한글소설 <b>홍길동</b>전의 저자 허균과 그의 누나이자 조선시대 여류시인... 허난설헌과 허균의 이야기는 비극이라 다소 무거운 극으로 흐를 수 있었던 점을 <b>홍길동</b>과 민중의 요소를 넣어... ',\n",
       "   'pubDate': 'Tue, 18 Oct 2022 17:02:00 +0900'}]}"
      ]
     },
     "execution_count": 23,
     "metadata": {},
     "output_type": "execute_result"
    }
   ],
   "source": [
    "import os\n",
    "import sys\n",
    "import urllib.request\n",
    "import json\n",
    "\n",
    "client_id = \"jqQYJdJcPbqx5S0MLqaL\"\n",
    "client_secret = \"lhPgIjVXUL\"\n",
    "\n",
    "encText = urllib.parse.quote(\"홍길동\")\n",
    "url = \"https://openapi.naver.com/v1/search/news.json?query=\"+ encText\n",
    "\n",
    "request = urllib.request.Request(url)\n",
    "request.add_header(\"X-Naver-Client-Id\", client_id)\n",
    "request.add_header(\"X-Naver-Client-Secret\", client_secret)\n",
    "\n",
    "response = urllib.request.urlopen(request)\n",
    "\n",
    "rescode = response.getcode()\n",
    "\n",
    "\n",
    "if(rescode == 200):\n",
    "    response_body = response.read()\n",
    "    decoderesponse = response_body.decode('utf-8')\n",
    "    reponsejson =  json.loads(decoderesponse)\n",
    "    reponsejson['total']  \n",
    " \n",
    "   \n",
    "    \n",
    "else:\n",
    "    print(\"Error code:\" + rescode)\n",
    "    \n",
    "reponsejson"
   ]
  },
  {
   "cell_type": "code",
   "execution_count": null,
   "id": "a9a9bc35",
   "metadata": {},
   "outputs": [],
   "source": [
    "#네이버 뉴스 검색하는 함수( 1.url구성하기[url = base+node+srcText]  \n",
    "#2.# 매개변수 url 접속 및 검색해서 요청 결과 return (json 형식)  3.JSON 객체(dict)를 파이썬 객체(str)으로 변환\n",
    "def getNaverSearch(node, srcText, start, display):  \n",
    "    base = \"https://openapi.naver.com/v1/search\"\n",
    "    node = \"/%s.json\"%node\n",
    "    parameters = \"?query=%s&start=%s&display=%s\" %(urllib.parse.quote(srcText), start, display)\n",
    "    \n",
    "    url = base+node+parameters\n",
    "    responseDecode = getRequestUrl(url) #code1\n",
    "    \n",
    "    if(responseDecode == None):\n",
    "        return None\n",
    "    else:\n",
    "        return json.loads(responseDecode)      #retuurn된 json객체(dict)을 파이썬 객체(str)으로 변환\n",
    "    "
   ]
  },
  {
   "cell_type": "code",
   "execution_count": null,
   "id": "57a7ec49",
   "metadata": {},
   "outputs": [],
   "source": [
    "def getRequestUrl(url): # 매개변수 url 접속 및 검색해서 정보 return\n",
    "    req = urllib.request.Request(url)\n",
    "    req.add_header(\"X-Naver-Client-Id\", client_id)\n",
    "    req.add_header(\"X-Naver_Client-Secret\", client_secret)\n",
    "    \n",
    "    try:\n",
    "        response = urllib.request.urlopen(req) \n",
    "        if response.getcode()==200:\n",
    "            print([%s] Url Request Success %datetime.datetime.now())\n",
    "            return response.read().decode('utf-8')\n",
    "        \n",
    "        except Exception as e:\n",
    "            print(e)\n",
    "            print(\"[%s] Error for URL : %s\" %(datetime.datetime.now(), url))\n",
    "            return None\n",
    "        "
   ]
  },
  {
   "cell_type": "code",
   "execution_count": null,
   "id": "97329b17",
   "metadata": {},
   "outputs": [],
   "source": [
    "import datetime\n",
    "\n",
    "def getPostData(post, jsonResult, cnt):  #post : jsonReponse(딕셔너리 형식) map으로 한쌍씩 할당 받음, jsonResult : 빈 리스트\n",
    "    title = post['title']\n",
    "    description = post['description']\n",
    "    org_link = post['originallink']#검색 결과 문서의 내용을 요약한 패시지 정보,패시지에서 검색어와 일치하는 부분은 태그로 감싸져 있다.\n",
    "    link = post['link']\n",
    "    \n",
    "    pData = datetime.datetime.strptime(post['pubDate'], '%a, %d %b %Y %H:%M:%S +0900')  #날짜 정보 선택적으로 받기??\n",
    "    pDate = pDate.strftime('%Y-%m-%d %H:%M:%S') #받은 날짜 정보 아마 string으로 바꾸는 것\n",
    "    jsonResult.append({'cnt': cnt, 'title' : title, 'description': description, })\n",
    "\n",
    "def main():\n",
    "    node = 'news'  #크롤링할 대상(ex. news, blog, cafearticle, shop)\n",
    "    scrText = input('검색어를 입력하세요: ')\n",
    "    cnt = 0\n",
    "    jsonResult = []\n",
    "    \n",
    "    jsonResponse = getNaverSearch(node, src, 1, 100)\n",
    "    total = jsonResponse['total']#response해서 받은 json객체 메소드  검색결과 #총 갯수 total변수에 저장\n",
    "    \n",
    "    while((jsonResponse != None) and (jsonResponse['display']!=0)):\n",
    "        for post in jsonResponse['items']:\n",
    "            cnt+=1\n",
    "            getPostData(post, jsonResult, cnt)\n",
    "            start = jsonResponse['start']\n",
    "            \n",
    "            \n",
    "    "
   ]
  },
  {
   "cell_type": "code",
   "execution_count": 10,
   "id": "94bcac7c",
   "metadata": {},
   "outputs": [
    {
     "name": "stdout",
     "output_type": "stream",
     "text": [
      "{\"president2\": {\"name1\": \"dfdf\", \"2spec\": \"Dfdf\"}, \"president1\": {\"name1\": \"ree\", \"2spec\": \"hhhhhh\"}}\n",
      "{\n",
      " \"president1\": {\n",
      "  \"2spec\": \"hhhhhh\",\n",
      "  \"name1\": \"ree\"\n",
      " },\n",
      " \"president2\": {\n",
      "  \"2spec\": \"Dfdf\",\n",
      "  \"name1\": \"dfdf\"\n",
      " }\n",
      "}\n"
     ]
    }
   ],
   "source": [
    "import json\n",
    "data = {\"president2\" : {\"name1\": \"dfdf\", \"2spec\": \"Dfdf\"}, \"president1\": {\"name1\": \"ree\", \"2spec\": \"hhhhhh\"}}\n",
    "\n",
    "with open(\"data_file.json\", \"w\" )as f:\n",
    "    json.dump(data, f, indent = 1, sort_keys = True, ensure_ascii = False)\n",
    "    jdata = json.dumps(data)\n",
    "    print(jdata)\n",
    "    \n",
    "with open(\"data_file.json\", \"r\") as f:\n",
    "    print(f.read())"
   ]
  },
  {
   "cell_type": "code",
   "execution_count": null,
   "id": "8a43a241",
   "metadata": {},
   "outputs": [],
   "source": []
  },
  {
   "cell_type": "code",
   "execution_count": null,
   "id": "d80fc34a",
   "metadata": {},
   "outputs": [],
   "source": []
  },
  {
   "cell_type": "code",
   "execution_count": null,
   "id": "bcedae47",
   "metadata": {},
   "outputs": [],
   "source": []
  },
  {
   "cell_type": "code",
   "execution_count": null,
   "id": "43b543e8",
   "metadata": {},
   "outputs": [],
   "source": []
  },
  {
   "cell_type": "code",
   "execution_count": null,
   "id": "0c90c2bb",
   "metadata": {},
   "outputs": [],
   "source": []
  }
 ],
 "metadata": {
  "kernelspec": {
   "display_name": "Python 3 (ipykernel)",
   "language": "python",
   "name": "python3"
  },
  "language_info": {
   "codemirror_mode": {
    "name": "ipython",
    "version": 3
   },
   "file_extension": ".py",
   "mimetype": "text/x-python",
   "name": "python",
   "nbconvert_exporter": "python",
   "pygments_lexer": "ipython3",
   "version": "3.9.7"
  }
 },
 "nbformat": 4,
 "nbformat_minor": 5
}
